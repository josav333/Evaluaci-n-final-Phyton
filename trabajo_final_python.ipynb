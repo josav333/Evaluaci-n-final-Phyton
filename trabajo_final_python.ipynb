{
  "nbformat": 4,
  "nbformat_minor": 0,
  "metadata": {
    "colab": {
      "provenance": [],
      "authorship_tag": "ABX9TyNgGaXg+lAFaAxm9TGoxktc",
      "include_colab_link": true
    },
    "kernelspec": {
      "name": "python3",
      "display_name": "Python 3"
    },
    "language_info": {
      "name": "python"
    }
  },
  "cells": [
    {
      "cell_type": "markdown",
      "metadata": {
        "id": "view-in-github",
        "colab_type": "text"
      },
      "source": [
        "<a href=\"https://colab.research.google.com/github/josav333/Evaluaci-n-final-Phyton/blob/main/trabajo_final_python.ipynb\" target=\"_parent\"><img src=\"https://colab.research.google.com/assets/colab-badge.svg\" alt=\"Open In Colab\"/></a>"
      ]
    },
    {
      "cell_type": "markdown",
      "source": [
        "# **EJERCICIOS MODULO 2**"
      ],
      "metadata": {
        "id": "Yv6C3hclBArF"
      }
    },
    {
      "cell_type": "markdown",
      "source": [
        "## Ejercicio 1\n",
        "Imagina que un extraterrestre acaba de ser derribado en un juego. Cree una variable llamada alien_color y asígnele un valor de 'verde', 'amarillo' o 'rojo'.\n",
        "Escribe una declaración if para probar si el color del extraterrestre es verde. Si es así, imprime un mensaje de que el jugador acaba de ganar 5 puntos\n"
      ],
      "metadata": {
        "id": "7tIXcXrFBpoa"
      }
    },
    {
      "cell_type": "code",
      "source": [
        "alien_color = input ('Favor ingresar color del alien:')\n",
        "if alien_color.lower() == 'verde':\n",
        "  print('Acaba de ganar 5 puntos')"
      ],
      "metadata": {
        "colab": {
          "base_uri": "https://localhost:8080/"
        },
        "id": "vlSBTJ5EBMdR",
        "outputId": "be34f56a-3536-4d44-d845-4cbfbfcf27cf"
      },
      "execution_count": 5,
      "outputs": [
        {
          "output_type": "stream",
          "name": "stdout",
          "text": [
            "Favor ingresar color del alien:verde\n",
            "Acaba de ganar 5 puntos\n"
          ]
        }
      ]
    },
    {
      "cell_type": "markdown",
      "source": [
        "## Ejercicio 2\n",
        "Elija un color para un extraterrestre como lo hizo en el Ejercicio anterior y escriba una cadena if-else.\n",
        "Si el alienígena es verde, imprime un mensaje de que el jugador obtuvo 5 puntos. Si el alienígena es amarillo, imprime un mensaje de que el jugador obtuvo 10 puntos. Si el alienígena es rojo, imprime un mensaje de que el jugador obtuvo 15 puntos\n"
      ],
      "metadata": {
        "id": "R3hKVGsaHNBu"
      }
    },
    {
      "cell_type": "code",
      "source": [
        "alien_color = input ('Favor ingresar color del alien:')\n",
        "\n",
        "if alien_color.lower() == 'verde':\n",
        "  print('Acaba de ganar 5 puntos')\n",
        "\n",
        "elif alien_color.lower() == 'amarillo':\n",
        "  print('Acaba de ganar 10 puntos')\n",
        "\n",
        "if alien_color.lower() == 'rojo':\n",
        "  print('Acaba de ganar 15 puntos')"
      ],
      "metadata": {
        "colab": {
          "base_uri": "https://localhost:8080/"
        },
        "id": "eQ_jjKrfHXmR",
        "outputId": "452adf1a-ea09-4e9c-c031-93a6132ea166"
      },
      "execution_count": 6,
      "outputs": [
        {
          "output_type": "stream",
          "name": "stdout",
          "text": [
            "Favor ingresar color del alien:rojo\n",
            "Acaba de ganar 15 puntos\n"
          ]
        }
      ]
    },
    {
      "cell_type": "markdown",
      "source": [
        "## Ejercicio 3\n",
        "\n",
        "Escriba un ciclo que solicite al usuario que ingrese una serie de ingredientes para la pizza hasta que ingrese un valor de 'salir'. A medida que ingresen cada ingrediente, imprima un mensaje que diga que agregará ese ingrediente a su pizza"
      ],
      "metadata": {
        "id": "6mUhSi5NK3U3"
      }
    },
    {
      "cell_type": "code",
      "source": [
        "while True:\n",
        "  Ingrediente = input(\"Ingrese el ingrediente: \")\n",
        "  if Ingrediente.lower() == 'salir':\n",
        "    break           \n",
        "  else:\n",
        "    print(f\"Se agregará {Ingrediente} a su pizza\")\n",
        "    \n",
        "     \n"
      ],
      "metadata": {
        "colab": {
          "base_uri": "https://localhost:8080/"
        },
        "id": "5vb704LxLAVF",
        "outputId": "46521842-01ce-43e0-bdc4-08445a502d1c"
      },
      "execution_count": 11,
      "outputs": [
        {
          "name": "stdout",
          "output_type": "stream",
          "text": [
            "Ingrese el ingrediente: Chorizo\n",
            "Se agregará Chorizo a su pizza\n",
            "Ingrese el ingrediente: Tomate\n",
            "Se agregará Tomate a su pizza\n",
            "Ingrese el ingrediente: Cebolla\n",
            "Se agregará Cebolla a su pizza\n",
            "Ingrese el ingrediente: salir\n"
          ]
        }
      ]
    },
    {
      "cell_type": "markdown",
      "source": [
        "## Ejercicio 4\n",
        "\n",
        "Un cine cobra diferentes precios de boletos dependiendo de la edad de una persona. Si una persona es menor de 3 años, la entrada es gratuita; si son entre 3 y 12, el boleto cuesta s/. 10; y si son mayores de 12 años, el boleto cuesta s/. 15. Escriba un ciclo en el que pregunte a los usuarios su edad y luego dígales el costo de su boleto de cine."
      ],
      "metadata": {
        "id": "MhDFckTSMGl9"
      }
    },
    {
      "cell_type": "code",
      "source": [
        "while True:  \n",
        "  Edad = int(input(\"Ingrese su edad: \"))  \n",
        "  if Edad < 0:\n",
        "    break\n",
        "  if Edad >= 0 and Edad < 3:\n",
        "    print(\"La entrada es gratuita\")\n",
        "  elif Edad >= 3 and Edad <= 12:\n",
        "    print(\"El precio del boleto es S/ 10\")   \n",
        "  elif Edad > 12:\n",
        "    print(\"El precio del boleto es S/ 15\")\n",
        "  elif Edad < 0:\n",
        "    break\n"
      ],
      "metadata": {
        "colab": {
          "base_uri": "https://localhost:8080/"
        },
        "id": "NyF-b_qDMPSs",
        "outputId": "9770610e-4168-4929-b3b4-6dafe7ffb00a"
      },
      "execution_count": 16,
      "outputs": [
        {
          "name": "stdout",
          "output_type": "stream",
          "text": [
            "Ingrese su edad: 1\n",
            "La entrada es gratuita\n",
            "Ingrese su edad: 12\n",
            "El precio del boleto es S/ 10\n",
            "Ingrese su edad: 38\n",
            "El precio del boleto es S/ 15\n",
            "Ingrese su edad: -15\n"
          ]
        }
      ]
    },
    {
      "cell_type": "markdown",
      "source": [
        "## Ejercicio 5\n",
        "\n",
        "Piensa en al menos tres tipos de tu pizza favorita. Almacene estos nombres de pizza en una lista y luego use un ciclo for para imprimir el nombre de cada pizza.\n",
        "Modifique su ciclo for para imprimir una oración usando el nombre de la pizza en lugar de imprimir solo el nombre de la pizza. Para cada pizza, debe tener una línea de salida que contenga una declaración simple como Me gusta la pizza de pepperoni. Agregue una línea al final de su programa, fuera del bucle for, que indique cuánto le gusta la pizza. El resultado debe constar de tres o más líneas sobre los tipos de pizza que te gustan y luego una oración adicional, como ¡Me encanta la pizza!\n"
      ],
      "metadata": {
        "id": "s-MSwhUHNI79"
      }
    },
    {
      "cell_type": "code",
      "source": [
        "Lista_Pizzas = [\"Argentina\", \"Super_light\", \"Presto\"]\n",
        "for i in Lista_Pizzas:\n",
        "  print(i) \n"
      ],
      "metadata": {
        "colab": {
          "base_uri": "https://localhost:8080/"
        },
        "id": "X3r8sD46OdlC",
        "outputId": "4ff79723-aa78-4172-ea89-a0592ef75f90"
      },
      "execution_count": 20,
      "outputs": [
        {
          "output_type": "stream",
          "name": "stdout",
          "text": [
            "Argentina\n",
            "Super_light\n",
            "Presto\n"
          ]
        }
      ]
    },
    {
      "cell_type": "code",
      "source": [
        "Lista_Pizzas = [\"Argentina\", \"Super_light\", \"Presto\"]\n",
        "for i in Lista_Pizzas:\n",
        "  print(f\"Me gusta la pizza {i}\")\n",
        "print(\"¡Me encanta la pizza!\")"
      ],
      "metadata": {
        "colab": {
          "base_uri": "https://localhost:8080/"
        },
        "id": "qFSTtStwPbk8",
        "outputId": "51283007-a56c-4e69-c65c-05cfa15408bd"
      },
      "execution_count": 21,
      "outputs": [
        {
          "output_type": "stream",
          "name": "stdout",
          "text": [
            "Me gusta la pizza Argentina\n",
            "Me gusta la pizza Super_light\n",
            "Me gusta la pizza Presto\n",
            "¡Me encanta la pizza!\n"
          ]
        }
      ]
    },
    {
      "cell_type": "markdown",
      "source": [
        "## Ejercicio 6\n",
        "\n",
        "Piensa en al menos tres animales diferentes que tengan una característica común. Guarde los nombres de estos animales en una lista y luego use un ciclo for para imprimir el nombre de cada animal.\n",
        "Modifique su programa para imprimir una declaración sobre cada animal, como Un perro sería una gran mascota. Agregue una línea al final de su programa indicando lo que estos animales tienen en común. Podría escribir una oración como ¡Cualquiera de estos animales sería una gran mascota!\n"
      ],
      "metadata": {
        "id": "tb3sWTkJRHSA"
      }
    },
    {
      "cell_type": "code",
      "source": [
        "Lista_Animales = [\"Perro\", \"Conejo\", \"Tarántula\"]\n",
        "for i in Lista_Animales:\n",
        "  print(i)\n"
      ],
      "metadata": {
        "colab": {
          "base_uri": "https://localhost:8080/"
        },
        "id": "MPSZTrNMRLij",
        "outputId": "cfacfa0d-264e-484c-c0d0-3a00e6dbf08b"
      },
      "execution_count": 22,
      "outputs": [
        {
          "output_type": "stream",
          "name": "stdout",
          "text": [
            "Perro\n",
            "Conejo\n",
            "Tarántula\n"
          ]
        }
      ]
    },
    {
      "cell_type": "code",
      "source": [
        "Lista_Animales = [\"Perro\", \"Conejo\", \"Tarántula\"]\n",
        "for i in Lista_Animales:\n",
        "  print(f\"Un {i} sería una gran mascota\")\n",
        "print(\"¡Cualquiera de estos animales sería una gran mascota!\")\n"
      ],
      "metadata": {
        "colab": {
          "base_uri": "https://localhost:8080/"
        },
        "id": "ow1Q5ZexRmVK",
        "outputId": "4bf7c7d1-efef-4ce7-ef35-7c5bd86a9f0d"
      },
      "execution_count": 23,
      "outputs": [
        {
          "output_type": "stream",
          "name": "stdout",
          "text": [
            "Un Perro sería una gran mascota\n",
            "Un Conejo sería una gran mascota\n",
            "Un Tarántula sería una gran mascota\n",
            "¡Cualquiera de estos animales sería una gran mascota!\n"
          ]
        }
      ]
    },
    {
      "cell_type": "markdown",
      "source": [
        "# **Ejercicios Modulo 3**"
      ],
      "metadata": {
        "id": "NVjsiNoXR2wC"
      }
    },
    {
      "cell_type": "markdown",
      "source": [
        "## Ejercicio 1\n",
        "\n",
        "Escriba una función llamada make_album() que cree un diccionario que describa un álbum de música. La función debe tomar el nombre de un artista y el título de un álbum, y debe devolver un diccionario que contenga estos dos datos. Utilice la función para crear tres diccionarios que representen diferentes álbumes. Imprima cada valor devuelto para mostrar que los diccionarios están almacenando la información del álbum correctamente.\n",
        "\n",
        "Use None para agregar un parámetro opcional a make_album() que le permita almacenar la cantidad de canciones en un álbum. Si la línea de llamada incluye un valor para la cantidad de canciones, agregue ese valor al diccionario del álbum. Realice al menos una nueva llamada de función que incluya la cantidad de canciones en un álbum."
      ],
      "metadata": {
        "id": "vkOCtQTvR755"
      }
    },
    {
      "cell_type": "code",
      "source": [
        "def make_album (artista,album,**user_info):\n",
        "    user_info['nombre del artista'] = artista\n",
        "    user_info['nombre del album'] = album\n",
        "    return user_info\n",
        "\n",
        "user_profile = make_album('Britney Spears', 'Lucky')\n",
        "print(user_profile)\n",
        "\n",
        "user_profile = make_album('Miley Cirus', 'Plastic Hearts')\n",
        "print(user_profile)\n",
        "\n",
        "user_profile = make_album('Bunbunry', 'Odiame')\n",
        "print(user_profile)\n"
      ],
      "metadata": {
        "colab": {
          "base_uri": "https://localhost:8080/"
        },
        "id": "ZCfIfvTjS0SM",
        "outputId": "c09d51a2-64b5-4940-d1d3-06d9d4a4cc5f"
      },
      "execution_count": 19,
      "outputs": [
        {
          "output_type": "stream",
          "name": "stdout",
          "text": [
            "{'nombre del artista': 'Britney Spears', 'nombre del album': 'Lucky'}\n",
            "{'nombre del artista': 'Miley Cirus', 'nombre del album': 'Plastic Hearts'}\n",
            "{'nombre del artista': 'Bunbunry', 'nombre del album': 'Odiame'}\n"
          ]
        }
      ]
    },
    {
      "cell_type": "code",
      "source": [
        "def make_album(artista,album,canciones = None):\n",
        "  \"\"\"Return a dictionary of information about a artist\"\"\"\n",
        "  user_info = {'nombre del artista': artista, 'nombre del album': album, 'número de canciones': canciones}\n",
        "  return user_info\n",
        "\n",
        "make_album(\"Britney Spears\", \"Lucky\", 12)"
      ],
      "metadata": {
        "colab": {
          "base_uri": "https://localhost:8080/"
        },
        "id": "gzA17zqx1tQi",
        "outputId": "643a34c0-a7b0-46f6-ec28-b760eae00097"
      },
      "execution_count": 20,
      "outputs": [
        {
          "output_type": "execute_result",
          "data": {
            "text/plain": [
              "{'nombre del artista': 'Britney Spears',\n",
              " 'nombre del album': 'Lucky',\n",
              " 'número de canciones': 12}"
            ]
          },
          "metadata": {},
          "execution_count": 20
        }
      ]
    },
    {
      "cell_type": "markdown",
      "source": [
        "## Ejercicio 2\n",
        "\n",
        "Comience con su programa del ejercicio anterior. Escriba un ciclo while que permita a los usuarios ingresar el artista y el título de un álbum. Una vez que tenga esa información, llame a make_album() con la entrada del usuario e imprima el diccionario que se crea. Asegúrese de incluir un valor de salida en el ciclo while."
      ],
      "metadata": {
        "id": "3IM_5R5q5t2w"
      }
    },
    {
      "cell_type": "code",
      "source": [
        "def make_album (artista,album,**user_info):\n",
        "    user_info['nombre del artista'] = artista\n",
        "    user_info['nombre del album'] = album\n",
        "    return user_info\n",
        "\n",
        "while True:  \n",
        "  Consulta_Artista = input(\"Ingrese el nombre del artista: \")  \n",
        "  Consulta_Album = input(\"Ingrese el nombre del albúm: \")  \n",
        "  Dic_Art_Alb = make_album(Consulta_Artista, Consulta_Album)\n",
        "  print(Dic_Art_Alb)\n",
        "  Consulta_Salir = input(\"Desea salir? \")  \n",
        "  if Consulta_Salir.lower() == 'si':\n",
        "    break\n"
      ],
      "metadata": {
        "colab": {
          "base_uri": "https://localhost:8080/"
        },
        "id": "ip2fXAJO51Fg",
        "outputId": "f122fce1-0a9b-4f25-e690-6e4f2871fda4"
      },
      "execution_count": 21,
      "outputs": [
        {
          "name": "stdout",
          "output_type": "stream",
          "text": [
            "Ingrese el nombre del artista: Britney Spears\n",
            "Ingrese el nombre del albúm: Lucky\n",
            "{'nombre del artista': 'Britney Spears', 'nombre del album': 'Lucky'}\n",
            "Desea salir? no\n",
            "Ingrese el nombre del artista: Bunbury\n",
            "Ingrese el nombre del albúm: Odiame\n",
            "{'nombre del artista': 'Bunbury', 'nombre del album': 'Odiame'}\n",
            "Desea salir? si\n"
          ]
        }
      ]
    },
    {
      "cell_type": "markdown",
      "source": [
        "## Ejercicio 3\n",
        "\n",
        "Comience con una copia de su programa del Ejercicio anterior. Escriba una función llamada send_messages() que imprima cada mensaje de texto y mueva cada mensaje a una nueva lista llamada sent_messages a medida que se imprime. Después de llamar a la función, imprima ambas listas para asegurarse de que los mensajes se movieron correctamente."
      ],
      "metadata": {
        "id": "VO5C3Q9g6gyH"
      }
    },
    {
      "cell_type": "code",
      "source": [
        "def send_messages(messages):\n",
        "  sent_messages = []\n",
        "  print(\"Impresión mensaje de texto:\")\n",
        "  while messages:\n",
        "    Mensaje_Actual = messages.pop()\n",
        "    ### Imprimir cada mensaje de texto   \n",
        "    print(f'\\n{Mensaje_Actual}')\n",
        "    ### Mover mensaje a nueva lista llamada sent_messages conforme se imprime    \n",
        "    sent_messages.append(Mensaje_Actual)\n",
        "  \n",
        "  print(\"\\nImpresión de nueva lista (comprobación):\")\n",
        "  for Mensaje_Movido in sent_messages:\n",
        "    print(f'\\n{Mensaje_Movido}')\n",
        "\n",
        "     \n",
        "send_messages(['mensaje 1','mensaje 2','mensaje 3'])\n"
      ],
      "metadata": {
        "colab": {
          "base_uri": "https://localhost:8080/"
        },
        "id": "Stelkelz6l2h",
        "outputId": "955e4f00-5d81-41e8-e1e8-6adf3f53bc27"
      },
      "execution_count": 22,
      "outputs": [
        {
          "output_type": "stream",
          "name": "stdout",
          "text": [
            "Impresión mensaje de texto:\n",
            "\n",
            "mensaje 3\n",
            "\n",
            "mensaje 2\n",
            "\n",
            "mensaje 1\n",
            "\n",
            "Impresión de nueva lista (comprobación):\n",
            "\n",
            "mensaje 3\n",
            "\n",
            "mensaje 2\n",
            "\n",
            "mensaje 1\n"
          ]
        }
      ]
    },
    {
      "cell_type": "markdown",
      "source": [
        "## Ejercicio 4\n",
        "\n",
        "Comience con su trabajo del Ejercicio anterior. Llame a la función send_messages() con una copia de la lista de mensajes. Después de llamar a la función, imprima ambas listas para mostrar que la lista original ha conservado sus mensajes."
      ],
      "metadata": {
        "id": "gSVVEOYa7xRw"
      }
    },
    {
      "cell_type": "code",
      "source": [
        "Lista_Mensajes = ['mensaje 1','mensaje 2','mensaje 3']\n",
        "Copia_Lista_Mensajes = ['mensaje 1','mensaje 2','mensaje 3']\n",
        "send_messages(Copia_Lista_Mensajes)\n",
        "print(f\"\\nLa lista de mensajes originales es: {Lista_Mensajes}\")\n"
      ],
      "metadata": {
        "colab": {
          "base_uri": "https://localhost:8080/"
        },
        "id": "eerVuzcD8C3B",
        "outputId": "cf0a6fb4-c271-41cd-8a0c-745eeb9069f8"
      },
      "execution_count": 23,
      "outputs": [
        {
          "output_type": "stream",
          "name": "stdout",
          "text": [
            "Impresión mensaje de texto:\n",
            "\n",
            "mensaje 3\n",
            "\n",
            "mensaje 2\n",
            "\n",
            "mensaje 1\n",
            "\n",
            "Impresión de nueva lista (comprobación):\n",
            "\n",
            "mensaje 3\n",
            "\n",
            "mensaje 2\n",
            "\n",
            "mensaje 1\n",
            "\n",
            "La lista de mensajes originales es: ['mensaje 1', 'mensaje 2', 'mensaje 3']\n"
          ]
        }
      ]
    },
    {
      "cell_type": "markdown",
      "source": [
        "## Ejercicio 5\n",
        "\n",
        "Comience con una copia de user_profile de Uso de argumentos de palabras clave arbitrarias. Cree un perfil de usted mismo llamando a build_profile(), usando su nombre y apellido y otros tres pares clave-valor que lo describan."
      ],
      "metadata": {
        "id": "uw0F5dVz8a-h"
      }
    },
    {
      "cell_type": "code",
      "source": [
        "def build_profile (first,last,**user_info):\n",
        "    \"\"\"Build a dictionary containing everything we know about a user.\"\"\"\n",
        "    user_info['first_name'] = first\n",
        "    user_info['last_name'] = last\n",
        "    return user_info\n",
        "\n",
        "user_profile = build_profile('Johanna', 'Saavedra',\n",
        "                             city='Arequipa',\n",
        "                             location='Peru',\n",
        "                             hobby='dance')\n",
        "print(user_profile)"
      ],
      "metadata": {
        "colab": {
          "base_uri": "https://localhost:8080/"
        },
        "id": "oVWNM8kJ8g13",
        "outputId": "dfaeaa38-eb02-4c54-f014-0d070d927a96"
      },
      "execution_count": 41,
      "outputs": [
        {
          "output_type": "stream",
          "name": "stdout",
          "text": [
            "{'city': 'Arequipa', 'location': 'Peru', 'hobby': 'dance', 'first_name': 'Johanna', 'last_name': 'Saavedra'}\n"
          ]
        }
      ]
    },
    {
      "cell_type": "markdown",
      "source": [
        "## Ejercicio 6\n",
        "\n",
        "Escribe una función que almacene información sobre un automóvil en un diccionario. La función siempre debe recibir un fabricante y un nombre de modelo. Entonces debería aceptar un número arbitrario de argumentos de palabras clave. Llame a la función con la información requerida y otros dos pares de nombre y valor, como un color o una función opcional. Su función debería funcionar para una llamada como esta:\n",
        "coche = make_car('subaru', 'outback', color='blue', tow_package=True)\n",
        "Imprima el diccionario que se devuelve para asegurarse de que toda la información se almacenó correctamente.\n"
      ],
      "metadata": {
        "id": "OAL5uNCnAliP"
      }
    },
    {
      "cell_type": "code",
      "source": [
        "def make_car(manufacturer, model, **additional):\n",
        "    \"\"\"Build a dictionary containing everything we know about a user.\"\"\"\n",
        "    additional['manufacturer_name'] = manufacturer\n",
        "    additional['model_name'] = model\n",
        "    return additional\n",
        "     \n",
        "coche = make_car('subaru', 'outback', color='blue', tow_package=True)\n",
        "print(coche)"
      ],
      "metadata": {
        "colab": {
          "base_uri": "https://localhost:8080/"
        },
        "id": "-ij-O3GmAt64",
        "outputId": "2301551d-728e-42bf-c9bd-d6b6220cdf5f"
      },
      "execution_count": 44,
      "outputs": [
        {
          "output_type": "stream",
          "name": "stdout",
          "text": [
            "{'color': 'blue', 'tow_package': True, 'manufacturer_name': 'subaru', 'model_name': 'outback'}\n"
          ]
        }
      ]
    },
    {
      "cell_type": "markdown",
      "source": [
        "## Ejercicio 7\n",
        "\n",
        "Haz una clase llamada Usuario. Cree dos atributos llamados first_name y last_name, y luego cree varios otros atributos que normalmente se almacenan en un perfil de usuario. Cree un método llamado describe_user() que imprima un resumen de la información del usuario. Cree otro método llamado greeting_user() que imprima un saludo personalizado para el usuario.\n",
        "\n",
        "Cree varias instancias que representen a diferentes usuarios y llame a ambos métodos para cada usuario."
      ],
      "metadata": {
        "id": "8NZTKV5-C32f"
      }
    },
    {
      "cell_type": "code",
      "source": [
        "class Usuario:    \n",
        "    \"\"\"Information from our users\"\"\"\n",
        "    def __init__(self, first_name, last_name, age, civil_status, city, pais):       \n",
        "        self.first_name = first_name\n",
        "        self.last_name = last_name\n",
        "        self.age = age\n",
        "        self.civil_status = civil_status\n",
        "        self.city = city\n",
        "        self.pais = pais\n",
        "\n",
        "    def describe_user(self):        \n",
        "        print(f'{self.first_name}, {self.last_name}, {self.age}, {self.civil_status}, {self.city}, {self.pais}')\n",
        "\n",
        "    def greeting_use(self):        \n",
        "        print(f\"Bienvenido y gracias por visitarnos {self.first_name} {self.last_name} \")\n",
        "     \n",
        "my_user1 = Usuario(\"Gloria\", \"Sanchez\", 42, \"divorcee\", \"Ayacucho\", \"Perú\")\n",
        "my_user2 = Usuario(\"Ramiro\", \"Bueno\", 54, \"married\", \"Lima\", \"Perú\")   \n",
        "my_user3 = Usuario(\"Vilma\", \"Palma\", 21, \"married\", \"Tacna\", \"Perú\") \n",
        "\n",
        "my_user1.describe_user()\n",
        "my_user2.describe_user()\n",
        "my_user3.describe_user()     \n",
        "\n",
        "my_user1.greeting_use()\n",
        "my_user2.greeting_use()\n",
        "my_user3.greeting_use()"
      ],
      "metadata": {
        "colab": {
          "base_uri": "https://localhost:8080/"
        },
        "id": "Cm2kWbUiDDw1",
        "outputId": "90871b87-c591-43ac-ada4-36dd2499ee85"
      },
      "execution_count": 53,
      "outputs": [
        {
          "output_type": "stream",
          "name": "stdout",
          "text": [
            "Gloria, Sanchez, 42, divorcee, Ayacucho, Perú\n",
            "Ramiro, Bueno, 54, married, Lima, Perú\n",
            "Vilma, Palma, 21, married, Tacna, Perú\n",
            "Bienvenido y gracias por visitarnos Gloria Sanchez \n",
            "Bienvenido y gracias por visitarnos Ramiro Bueno \n",
            "Bienvenido y gracias por visitarnos Vilma Palma \n"
          ]
        }
      ]
    },
    {
      "cell_type": "code",
      "source": [],
      "metadata": {
        "id": "dRyFq4rOC-xN"
      },
      "execution_count": null,
      "outputs": []
    },
    {
      "cell_type": "markdown",
      "source": [
        "# **Modulo 4**"
      ],
      "metadata": {
        "id": "mjF6wh0TJ8tC"
      }
    },
    {
      "cell_type": "markdown",
      "source": [
        "## Ejercicio 1\n",
        "esto me supera"
      ],
      "metadata": {
        "id": "sd4ew6odKDXC"
      }
    },
    {
      "cell_type": "code",
      "source": [],
      "metadata": {
        "id": "UrFQb9K9KJzK"
      },
      "execution_count": null,
      "outputs": []
    }
  ]
}