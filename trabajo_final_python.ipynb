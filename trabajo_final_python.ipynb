{
  "nbformat": 4,
  "nbformat_minor": 0,
  "metadata": {
    "colab": {
      "provenance": [],
      "authorship_tag": "ABX9TyODfDFQnwIgOLjOyRzIZ39W",
      "include_colab_link": true
    },
    "kernelspec": {
      "name": "python3",
      "display_name": "Python 3"
    },
    "language_info": {
      "name": "python"
    }
  },
  "cells": [
    {
      "cell_type": "markdown",
      "metadata": {
        "id": "view-in-github",
        "colab_type": "text"
      },
      "source": [
        "<a href=\"https://colab.research.google.com/github/josav333/Evaluaci-n-final-Phyton/blob/main/trabajo_final_python.ipynb\" target=\"_parent\"><img src=\"https://colab.research.google.com/assets/colab-badge.svg\" alt=\"Open In Colab\"/></a>"
      ]
    },
    {
      "cell_type": "markdown",
      "source": [
        "# **EJERCICIOS MODULO 2**"
      ],
      "metadata": {
        "id": "Yv6C3hclBArF"
      }
    },
    {
      "cell_type": "markdown",
      "source": [
        "## Ejercicio 1\n",
        "Imagina que un extraterrestre acaba de ser derribado en un juego. Cree una variable llamada alien_color y asígnele un valor de 'verde', 'amarillo' o 'rojo'.\n",
        "Escribe una declaración if para probar si el color del extraterrestre es verde. Si es así, imprime un mensaje de que el jugador acaba de ganar 5 puntos\n"
      ],
      "metadata": {
        "id": "7tIXcXrFBpoa"
      }
    },
    {
      "cell_type": "code",
      "source": [
        "alien_color = input ('Favor ingresar color del alien:')\n",
        "if alien_color.lower() == 'verde':\n",
        "  print('Acaba de ganar 5 puntos')"
      ],
      "metadata": {
        "colab": {
          "base_uri": "https://localhost:8080/"
        },
        "id": "vlSBTJ5EBMdR",
        "outputId": "be34f56a-3536-4d44-d845-4cbfbfcf27cf"
      },
      "execution_count": 5,
      "outputs": [
        {
          "output_type": "stream",
          "name": "stdout",
          "text": [
            "Favor ingresar color del alien:verde\n",
            "Acaba de ganar 5 puntos\n"
          ]
        }
      ]
    },
    {
      "cell_type": "markdown",
      "source": [
        "## Ejercicio 2\n",
        "Elija un color para un extraterrestre como lo hizo en el Ejercicio anterior y escriba una cadena if-else.\n",
        "Si el alienígena es verde, imprime un mensaje de que el jugador obtuvo 5 puntos. Si el alienígena es amarillo, imprime un mensaje de que el jugador obtuvo 10 puntos. Si el alienígena es rojo, imprime un mensaje de que el jugador obtuvo 15 puntos\n"
      ],
      "metadata": {
        "id": "R3hKVGsaHNBu"
      }
    },
    {
      "cell_type": "code",
      "source": [
        "alien_color = input ('Favor ingresar color del alien:')\n",
        "\n",
        "if alien_color.lower() == 'verde':\n",
        "  print('Acaba de ganar 5 puntos')\n",
        "\n",
        "elif alien_color.lower() == 'amarillo':\n",
        "  print('Acaba de ganar 10 puntos')\n",
        "\n",
        "if alien_color.lower() == 'rojo':\n",
        "  print('Acaba de ganar 15 puntos')"
      ],
      "metadata": {
        "colab": {
          "base_uri": "https://localhost:8080/"
        },
        "id": "eQ_jjKrfHXmR",
        "outputId": "452adf1a-ea09-4e9c-c031-93a6132ea166"
      },
      "execution_count": 6,
      "outputs": [
        {
          "output_type": "stream",
          "name": "stdout",
          "text": [
            "Favor ingresar color del alien:rojo\n",
            "Acaba de ganar 15 puntos\n"
          ]
        }
      ]
    },
    {
      "cell_type": "markdown",
      "source": [
        "## Ejercicio 3\n",
        "\n",
        "Escriba un ciclo que solicite al usuario que ingrese una serie de ingredientes para la pizza hasta que ingrese un valor de 'salir'. A medida que ingresen cada ingrediente, imprima un mensaje que diga que agregará ese ingrediente a su pizza"
      ],
      "metadata": {
        "id": "6mUhSi5NK3U3"
      }
    },
    {
      "cell_type": "code",
      "source": [
        "while True:\n",
        "  Ingrediente = input(\"Ingrese el ingrediente: \")\n",
        "  if Ingrediente.lower() == 'salir':\n",
        "    break           \n",
        "  else:\n",
        "    print(f\"Se agregará {Ingrediente} a su pizza\")\n",
        "    \n",
        "     \n"
      ],
      "metadata": {
        "colab": {
          "base_uri": "https://localhost:8080/"
        },
        "id": "5vb704LxLAVF",
        "outputId": "46521842-01ce-43e0-bdc4-08445a502d1c"
      },
      "execution_count": 11,
      "outputs": [
        {
          "name": "stdout",
          "output_type": "stream",
          "text": [
            "Ingrese el ingrediente: Chorizo\n",
            "Se agregará Chorizo a su pizza\n",
            "Ingrese el ingrediente: Tomate\n",
            "Se agregará Tomate a su pizza\n",
            "Ingrese el ingrediente: Cebolla\n",
            "Se agregará Cebolla a su pizza\n",
            "Ingrese el ingrediente: salir\n"
          ]
        }
      ]
    },
    {
      "cell_type": "markdown",
      "source": [
        "## Ejercicio 4\n",
        "\n",
        "Un cine cobra diferentes precios de boletos dependiendo de la edad de una persona. Si una persona es menor de 3 años, la entrada es gratuita; si son entre 3 y 12, el boleto cuesta s/. 10; y si son mayores de 12 años, el boleto cuesta s/. 15. Escriba un ciclo en el que pregunte a los usuarios su edad y luego dígales el costo de su boleto de cine."
      ],
      "metadata": {
        "id": "MhDFckTSMGl9"
      }
    },
    {
      "cell_type": "code",
      "source": [
        "while True:  \n",
        "  Edad = int(input(\"Ingrese su edad: \"))  \n",
        "  if Edad < 0:\n",
        "    break\n",
        "  if Edad >= 0 and Edad < 3:\n",
        "    print(\"La entrada es gratuita\")\n",
        "  elif Edad >= 3 and Edad <= 12:\n",
        "    print(\"El precio del boleto es S/ 10\")   \n",
        "  elif Edad > 12:\n",
        "    print(\"El precio del boleto es S/ 15\")\n",
        "  elif Edad < 0:\n",
        "    break\n"
      ],
      "metadata": {
        "colab": {
          "base_uri": "https://localhost:8080/"
        },
        "id": "NyF-b_qDMPSs",
        "outputId": "9770610e-4168-4929-b3b4-6dafe7ffb00a"
      },
      "execution_count": 16,
      "outputs": [
        {
          "name": "stdout",
          "output_type": "stream",
          "text": [
            "Ingrese su edad: 1\n",
            "La entrada es gratuita\n",
            "Ingrese su edad: 12\n",
            "El precio del boleto es S/ 10\n",
            "Ingrese su edad: 38\n",
            "El precio del boleto es S/ 15\n",
            "Ingrese su edad: -15\n"
          ]
        }
      ]
    },
    {
      "cell_type": "markdown",
      "source": [
        "## Ejercicio 5\n",
        "\n",
        "Piensa en al menos tres tipos de tu pizza favorita. Almacene estos nombres de pizza en una lista y luego use un ciclo for para imprimir el nombre de cada pizza.\n",
        "Modifique su ciclo for para imprimir una oración usando el nombre de la pizza en lugar de imprimir solo el nombre de la pizza. Para cada pizza, debe tener una línea de salida que contenga una declaración simple como Me gusta la pizza de pepperoni. Agregue una línea al final de su programa, fuera del bucle for, que indique cuánto le gusta la pizza. El resultado debe constar de tres o más líneas sobre los tipos de pizza que te gustan y luego una oración adicional, como ¡Me encanta la pizza!\n"
      ],
      "metadata": {
        "id": "s-MSwhUHNI79"
      }
    },
    {
      "cell_type": "code",
      "source": [
        "Lista_Pizzas = [\"Argentina\", \"Super_light\", \"Presto\"]\n",
        "for i in Lista_Pizzas:\n",
        "  print(i) \n"
      ],
      "metadata": {
        "colab": {
          "base_uri": "https://localhost:8080/"
        },
        "id": "X3r8sD46OdlC",
        "outputId": "4ff79723-aa78-4172-ea89-a0592ef75f90"
      },
      "execution_count": 20,
      "outputs": [
        {
          "output_type": "stream",
          "name": "stdout",
          "text": [
            "Argentina\n",
            "Super_light\n",
            "Presto\n"
          ]
        }
      ]
    },
    {
      "cell_type": "code",
      "source": [
        "Lista_Pizzas = [\"Argentina\", \"Super_light\", \"Presto\"]\n",
        "for i in Lista_Pizzas:\n",
        "  print(f\"Me gusta la pizza {i}\")\n",
        "print(\"¡Me encanta la pizza!\")"
      ],
      "metadata": {
        "colab": {
          "base_uri": "https://localhost:8080/"
        },
        "id": "qFSTtStwPbk8",
        "outputId": "51283007-a56c-4e69-c65c-05cfa15408bd"
      },
      "execution_count": 21,
      "outputs": [
        {
          "output_type": "stream",
          "name": "stdout",
          "text": [
            "Me gusta la pizza Argentina\n",
            "Me gusta la pizza Super_light\n",
            "Me gusta la pizza Presto\n",
            "¡Me encanta la pizza!\n"
          ]
        }
      ]
    },
    {
      "cell_type": "markdown",
      "source": [
        "## Ejercicio 6\n",
        "\n",
        "Piensa en al menos tres animales diferentes que tengan una característica común. Guarde los nombres de estos animales en una lista y luego use un ciclo for para imprimir el nombre de cada animal.\n",
        "Modifique su programa para imprimir una declaración sobre cada animal, como Un perro sería una gran mascota. Agregue una línea al final de su programa indicando lo que estos animales tienen en común. Podría escribir una oración como ¡Cualquiera de estos animales sería una gran mascota!\n"
      ],
      "metadata": {
        "id": "tb3sWTkJRHSA"
      }
    },
    {
      "cell_type": "code",
      "source": [
        "Lista_Animales = [\"Perro\", \"Conejo\", \"Tarántula\"]\n",
        "for i in Lista_Animales:\n",
        "  print(i)\n"
      ],
      "metadata": {
        "colab": {
          "base_uri": "https://localhost:8080/"
        },
        "id": "MPSZTrNMRLij",
        "outputId": "cfacfa0d-264e-484c-c0d0-3a00e6dbf08b"
      },
      "execution_count": 22,
      "outputs": [
        {
          "output_type": "stream",
          "name": "stdout",
          "text": [
            "Perro\n",
            "Conejo\n",
            "Tarántula\n"
          ]
        }
      ]
    },
    {
      "cell_type": "code",
      "source": [
        "Lista_Animales = [\"Perro\", \"Conejo\", \"Tarántula\"]\n",
        "for i in Lista_Animales:\n",
        "  print(f\"Un {i} sería una gran mascota\")\n",
        "print(\"¡Cualquiera de estos animales sería una gran mascota!\")\n"
      ],
      "metadata": {
        "colab": {
          "base_uri": "https://localhost:8080/"
        },
        "id": "ow1Q5ZexRmVK",
        "outputId": "4bf7c7d1-efef-4ce7-ef35-7c5bd86a9f0d"
      },
      "execution_count": 23,
      "outputs": [
        {
          "output_type": "stream",
          "name": "stdout",
          "text": [
            "Un Perro sería una gran mascota\n",
            "Un Conejo sería una gran mascota\n",
            "Un Tarántula sería una gran mascota\n",
            "¡Cualquiera de estos animales sería una gran mascota!\n"
          ]
        }
      ]
    },
    {
      "cell_type": "markdown",
      "source": [
        "# **Ejercicios Modulo 3**"
      ],
      "metadata": {
        "id": "NVjsiNoXR2wC"
      }
    },
    {
      "cell_type": "markdown",
      "source": [
        "## Ejercicio 1\n",
        "\n",
        "Escriba una función llamada make_album() que cree un diccionario que describa un álbum de música. La función debe tomar el nombre de un artista y el título de un álbum, y debe devolver un diccionario que contenga estos dos datos. Utilice la función para crear tres diccionarios que representen diferentes álbumes. Imprima cada valor devuelto para mostrar que los diccionarios están almacenando la información del álbum correctamente.\n",
        "\n",
        "Use None para agregar un parámetro opcional a make_album() que le permita almacenar la cantidad de canciones en un álbum. Si la línea de llamada incluye un valor para la cantidad de canciones, agregue ese valor al diccionario del álbum. Realice al menos una nueva llamada de función que incluya la cantidad de canciones en un álbum."
      ],
      "metadata": {
        "id": "vkOCtQTvR755"
      }
    },
    {
      "cell_type": "code",
      "source": [
        "def make_album (artista,album,**user_info):\n",
        "    user_info['nombre del artista'] = artista\n",
        "    user_info['nombre del album'] = album\n",
        "    return user_info\n",
        "\n",
        "user_profile = make_album('Britney Spears', 'Lucky')\n",
        "print(user_profile)\n",
        "\n",
        "user_profile = make_album('Miley Cirus', 'Plastic Hearts')\n",
        "print(user_profile)\n",
        "\n",
        "user_profile = make_album('Bunbunry', 'Odiame')\n",
        "print(user_profile)\n"
      ],
      "metadata": {
        "colab": {
          "base_uri": "https://localhost:8080/"
        },
        "id": "ZCfIfvTjS0SM",
        "outputId": "c09d51a2-64b5-4940-d1d3-06d9d4a4cc5f"
      },
      "execution_count": 19,
      "outputs": [
        {
          "output_type": "stream",
          "name": "stdout",
          "text": [
            "{'nombre del artista': 'Britney Spears', 'nombre del album': 'Lucky'}\n",
            "{'nombre del artista': 'Miley Cirus', 'nombre del album': 'Plastic Hearts'}\n",
            "{'nombre del artista': 'Bunbunry', 'nombre del album': 'Odiame'}\n"
          ]
        }
      ]
    },
    {
      "cell_type": "code",
      "source": [
        "def make_album(artista,album,canciones = None):\n",
        "  \"\"\"Return a dictionary of information about a artist\"\"\"\n",
        "  user_info = {'nombre del artista': artista, 'nombre del album': album, 'número de canciones': canciones}\n",
        "  return user_info\n",
        "\n",
        "make_album(\"Britney Spears\", \"Lucky\", 12)"
      ],
      "metadata": {
        "id": "gzA17zqx1tQi",
        "outputId": "643a34c0-a7b0-46f6-ec28-b760eae00097",
        "colab": {
          "base_uri": "https://localhost:8080/"
        }
      },
      "execution_count": 20,
      "outputs": [
        {
          "output_type": "execute_result",
          "data": {
            "text/plain": [
              "{'nombre del artista': 'Britney Spears',\n",
              " 'nombre del album': 'Lucky',\n",
              " 'número de canciones': 12}"
            ]
          },
          "metadata": {},
          "execution_count": 20
        }
      ]
    }
  ]
}