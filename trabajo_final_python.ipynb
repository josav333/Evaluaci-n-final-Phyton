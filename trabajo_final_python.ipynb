{
  "nbformat": 4,
  "nbformat_minor": 0,
  "metadata": {
    "colab": {
      "provenance": [],
      "authorship_tag": "ABX9TyPrN8Sbk7H58KADL3mf1L93",
      "include_colab_link": true
    },
    "kernelspec": {
      "name": "python3",
      "display_name": "Python 3"
    },
    "language_info": {
      "name": "python"
    }
  },
  "cells": [
    {
      "cell_type": "markdown",
      "metadata": {
        "id": "view-in-github",
        "colab_type": "text"
      },
      "source": [
        "<a href=\"https://colab.research.google.com/github/josav333/Evaluaci-n-final-Phyton/blob/main/trabajo_final_python.ipynb\" target=\"_parent\"><img src=\"https://colab.research.google.com/assets/colab-badge.svg\" alt=\"Open In Colab\"/></a>"
      ]
    },
    {
      "cell_type": "markdown",
      "source": [
        "# **EJERCICIOS MODULO 2**"
      ],
      "metadata": {
        "id": "Yv6C3hclBArF"
      }
    },
    {
      "cell_type": "markdown",
      "source": [
        "## Ejercicio 1\n",
        "Imagina que un extraterrestre acaba de ser derribado en un juego. Cree una variable llamada alien_color y asígnele un valor de 'verde', 'amarillo' o 'rojo'.\n",
        "Escribe una declaración if para probar si el color del extraterrestre es verde. Si es así, imprime un mensaje de que el jugador acaba de ganar 5 puntos\n"
      ],
      "metadata": {
        "id": "7tIXcXrFBpoa"
      }
    },
    {
      "cell_type": "code",
      "source": [
        "alien_color = input ('Favor ingresar color del alien:')\n",
        "if alien_color.lower() == 'amarillo':\n",
        "  print('Acaba de ganar 5 puntos')"
      ],
      "metadata": {
        "colab": {
          "base_uri": "https://localhost:8080/"
        },
        "id": "vlSBTJ5EBMdR",
        "outputId": "e2c53b16-8f37-47d2-e8a5-f3fd4a7f80b1"
      },
      "execution_count": 4,
      "outputs": [
        {
          "output_type": "stream",
          "name": "stdout",
          "text": [
            "Favor ingresar color del alien:amarillo\n",
            "Acaba de ganar 5 puntos\n"
          ]
        }
      ]
    }
  ]
}